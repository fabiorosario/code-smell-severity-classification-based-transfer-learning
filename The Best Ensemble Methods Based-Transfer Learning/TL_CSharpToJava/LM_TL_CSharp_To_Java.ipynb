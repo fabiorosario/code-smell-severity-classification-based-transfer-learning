{
  "cells": [
    {
      "cell_type": "code",
      "execution_count": 2,
      "metadata": {
        "colab": {
          "base_uri": "https://localhost:8080/"
        },
        "id": "NlleJaXqJDSP",
        "outputId": "646ab5aa-44bd-4cbf-c868-f12c538f3b4a"
      },
      "outputs": [
        {
          "name": "stdout",
          "output_type": "stream",
          "text": [
            "Mounted at /content/drive\n"
          ]
        }
      ],
      "source": [
        "from google.colab import drive\n",
        "drive.mount('/content/drive')"
      ]
    },
    {
      "cell_type": "code",
      "execution_count": 3,
      "metadata": {
        "id": "2WObihxsl5TR"
      },
      "outputs": [],
      "source": [
        "import numpy as np\n",
        "import pandas as pd"
      ]
    },
    {
      "cell_type": "code",
      "execution_count": 4,
      "metadata": {
        "id": "v71RTEGbl85I"
      },
      "outputs": [],
      "source": [
        "java_dataset = pd.read_csv('/content/drive/MyDrive/machine learning/Datasets/merged dataset_FE_LM_GC_DC_class balancer.csv', sep=',', encoding='iso-8859-1')\n",
        "java_dataset = java_dataset[java_dataset.Dataset == \"long-method\"]"
      ]
    },
    {
      "cell_type": "code",
      "execution_count": 5,
      "metadata": {
        "id": "tD4upBd6Lsnz"
      },
      "outputs": [],
      "source": [
        "csharp_dataset = pd.read_csv('/content/drive/MyDrive/machine learning/Datasets/GeneratedDataset_CSharp.csv', sep=';', encoding='iso-8859-1')"
      ]
    },
    {
      "cell_type": "code",
      "execution_count": 6,
      "metadata": {
        "id": "yCLhDxAVIt_w"
      },
      "outputs": [],
      "source": [
        "import warnings\n",
        "warnings.filterwarnings(\"ignore\")"
      ]
    },
    {
      "cell_type": "markdown",
      "metadata": {
        "id": "hxXcBIr1nHlN"
      },
      "source": [
        "## **PREDICTOR AND TARGET ATTRIBUTES**"
      ]
    },
    {
      "cell_type": "code",
      "execution_count": 9,
      "metadata": {
        "id": "TtrPAUvnnNC2"
      },
      "outputs": [],
      "source": [
        "# Code Smell Detection\n",
        "java_binary_features = [8,10,11,13,14,15,17,18,19,21,22,23,24,25,26,31,33,35,37,40,43,44,60,70,84]\n",
        "java_binary_predictors = java_dataset.iloc[:, java_binary_features].values\n",
        "java_binary_targets = java_dataset.iloc[:, 5].values\n",
        "\n",
        "csharp_binary_features = [8,9,10,11,12,13,14,15,16,17,18,21,22,24,26,28,30,36,49,50,51,52,53,54,55]\n",
        "csharp_binary_predictors = csharp_dataset.iloc[:, csharp_binary_features].values\n",
        "csharp_binary_targets = csharp_dataset.iloc[:, 5].values\n",
        "\n",
        "\n",
        "# Severity Assessment\n",
        "java_multiclass_features = [10,14,15,19,25,27,30,31,33,36,37,38,40,41,45,46,53,56,62,63,64]\n",
        "java_multiclass_predictors = java_dataset.iloc[:, java_multiclass_features].values\n",
        "java_multiclass_targets = java_dataset.iloc[:, 7].values\n",
        "\n",
        "csharp_multiclass_features = [8,11,12,14,18,19,20,21,22,25,26,27,28,29,31,32,33,35,38,39,40]\n",
        "csharp_multiclass_predictors = csharp_dataset.iloc[:, csharp_multiclass_features].values\n",
        "csharp_multiclass_targets = csharp_dataset.iloc[:, 7].values"
      ]
    },
    {
      "cell_type": "markdown",
      "metadata": {
        "id": "7yPPqgrqmYWd"
      },
      "source": [
        "# **CODE SMELL DETECTION**"
      ]
    },
    {
      "cell_type": "code",
      "execution_count": null,
      "metadata": {
        "colab": {
          "base_uri": "https://localhost:8080/"
        },
        "id": "CdXwsx4kIt_y",
        "outputId": "5f976a78-c853-4af3-c2c0-6870e2e98702"
      },
      "outputs": [
        {
          "name": "stdout",
          "output_type": "stream",
          "text": [
            "Requirement already satisfied: seaborn in /usr/local/lib/python3.10/dist-packages (0.13.1)\n",
            "Requirement already satisfied: numpy!=1.24.0,>=1.20 in /usr/local/lib/python3.10/dist-packages (from seaborn) (1.26.4)\n",
            "Requirement already satisfied: pandas>=1.2 in /usr/local/lib/python3.10/dist-packages (from seaborn) (2.1.4)\n",
            "Requirement already satisfied: matplotlib!=3.6.1,>=3.4 in /usr/local/lib/python3.10/dist-packages (from seaborn) (3.7.1)\n",
            "Requirement already satisfied: contourpy>=1.0.1 in /usr/local/lib/python3.10/dist-packages (from matplotlib!=3.6.1,>=3.4->seaborn) (1.3.0)\n",
            "Requirement already satisfied: cycler>=0.10 in /usr/local/lib/python3.10/dist-packages (from matplotlib!=3.6.1,>=3.4->seaborn) (0.12.1)\n",
            "Requirement already satisfied: fonttools>=4.22.0 in /usr/local/lib/python3.10/dist-packages (from matplotlib!=3.6.1,>=3.4->seaborn) (4.53.1)\n",
            "Requirement already satisfied: kiwisolver>=1.0.1 in /usr/local/lib/python3.10/dist-packages (from matplotlib!=3.6.1,>=3.4->seaborn) (1.4.5)\n",
            "Requirement already satisfied: packaging>=20.0 in /usr/local/lib/python3.10/dist-packages (from matplotlib!=3.6.1,>=3.4->seaborn) (24.1)\n",
            "Requirement already satisfied: pillow>=6.2.0 in /usr/local/lib/python3.10/dist-packages (from matplotlib!=3.6.1,>=3.4->seaborn) (9.4.0)\n",
            "Requirement already satisfied: pyparsing>=2.3.1 in /usr/local/lib/python3.10/dist-packages (from matplotlib!=3.6.1,>=3.4->seaborn) (3.1.4)\n",
            "Requirement already satisfied: python-dateutil>=2.7 in /usr/local/lib/python3.10/dist-packages (from matplotlib!=3.6.1,>=3.4->seaborn) (2.8.2)\n",
            "Requirement already satisfied: pytz>=2020.1 in /usr/local/lib/python3.10/dist-packages (from pandas>=1.2->seaborn) (2024.1)\n",
            "Requirement already satisfied: tzdata>=2022.1 in /usr/local/lib/python3.10/dist-packages (from pandas>=1.2->seaborn) (2024.1)\n",
            "Requirement already satisfied: six>=1.5 in /usr/local/lib/python3.10/dist-packages (from python-dateutil>=2.7->matplotlib!=3.6.1,>=3.4->seaborn) (1.16.0)\n"
          ]
        }
      ],
      "source": [
        "pip install seaborn"
      ]
    },
    {
      "cell_type": "markdown",
      "metadata": {
        "id": "NLWyUb3VJPDb"
      },
      "source": [
        "## **BorderlineSMOTE**"
      ]
    },
    {
      "cell_type": "code",
      "execution_count": 10,
      "metadata": {
        "colab": {
          "base_uri": "https://localhost:8080/",
          "height": 901
        },
        "id": "_eI_W_-p1mWE",
        "outputId": "bb04a880-65da-44e5-8884-84c0cfd694f5"
      },
      "outputs": [
        {
          "name": "stdout",
          "output_type": "stream",
          "text": [
            "              precision    recall  f1-score   support\n",
            "\n",
            "         0.0       1.00      1.00      1.00        57\n",
            "         1.0       1.00      1.00      1.00        42\n",
            "\n",
            "    accuracy                           1.00        99\n",
            "   macro avg       1.00      1.00      1.00        99\n",
            "weighted avg       1.00      1.00      1.00        99\n",
            "\n"
          ]
        },
        {
          "data": {
            "image/png": "[encoded data removed]",
            "text/plain": [
              "<Figure size 900x900 with 2 Axes>"
            ]
          },
          "metadata": {},
          "output_type": "display_data"
        }
      ],
      "source": [
        "r = 42\n",
        "from xgboost import XGBClassifier\n",
        "from sklearn.metrics import accuracy_score, confusion_matrix, classification_report\n",
        "from sklearn.model_selection import train_test_split\n",
        "\n",
        "# Java Test and Train Dataset\n",
        "x_train_java_binary, x_test_java_binary, y_train_java_binary, y_test_java_binary = train_test_split(java_binary_predictors, java_binary_targets, test_size = 0.3, random_state = r)\n",
        "\n",
        "# Create a StandardScaler instance for binary and multiclass\n",
        "from sklearn.preprocessing import StandardScaler\n",
        "scaler_binary = StandardScaler()\n",
        "scaler_multiclass = StandardScaler()\n",
        "\n",
        "# Fit the scaler to the training data and transform the training data\n",
        "x_train_java_binary = scaler_binary.fit_transform(x_train_java_binary)\n",
        "\n",
        "# Transform the test data using the adjusted scaler\n",
        "x_test_java_binary = scaler_binary.transform(x_test_java_binary)\n",
        "\n",
        "# CSharp Test and Train Dataset\n",
        "x_train_csharp_binary, x_test_csharp_binary, y_train_csharp_binary, y_test_csharp_binary = train_test_split(csharp_binary_predictors, csharp_binary_targets, test_size = 0.3, random_state = r)\n",
        "\n",
        "# Fit the scaler to the training data and transform the training data\n",
        "x_train_csharp_binary = scaler_binary.fit_transform(x_train_csharp_binary)\n",
        "\n",
        "# OverSampling\n",
        "from imblearn.over_sampling import BorderlineSMOTE\n",
        "sm = BorderlineSMOTE(random_state=42)\n",
        "x_train_csharp_binary, y_train_csharp_binary = sm.fit_resample(x_train_csharp_binary, y_train_csharp_binary)\n",
        "\n",
        "# Combine Binary Training Dataset\n",
        "x_train_binary_combined = np.concatenate([x_train_java_binary, x_train_csharp_binary], axis=0)\n",
        "y_train_binary_combined = np.concatenate([y_train_java_binary, y_train_csharp_binary], axis=0)\n",
        "\n",
        "# Define the detector model\n",
        "detector = XGBClassifier(random_state=r, verbosity=0, booster='dart', grow_policy='depthwise', learning_rate=0.01, max_depth=20,\n",
        "                         n_estimators=503, tree_method='approx')\n",
        "\n",
        "detector.fit(x_train_binary_combined, y_train_binary_combined)\n",
        "\n",
        "# Define Binary Test Dataset\n",
        "x_test_binary, y_test_binary = x_test_java_binary, y_test_java_binary\n",
        "\n",
        "predictions_detector = detector.predict(x_test_binary)\n",
        "\n",
        "cm = confusion_matrix(y_test_binary, predictions_detector)\n",
        "\n",
        "print(classification_report(y_test_binary, predictions_detector))\n",
        "\n",
        "score = detector.score(x_test_binary, y_test_binary)\n",
        "\n",
        "import matplotlib.pyplot as plt\n",
        "import seaborn as sns\n",
        "from sklearn import metrics\n",
        "\n",
        "plt.figure(figsize=(9,9))\n",
        "sns.heatmap(cm, annot=True, fmt=\".0f\", linewidths=.5, square = True, cmap = 'Blues_r')\n",
        "plt.ylabel('Actual label')\n",
        "plt.xlabel('Predicted label')\n",
        "all_sample_title = 'Accuracy Score: {0}'.format(score)\n",
        "plt.title(all_sample_title, size = 17)\n",
        "#plt.savefig('toy_Digits_ConfusionSeabornCodementor.png')\n",
        "plt.show()"
      ]
    },
    {
      "cell_type": "markdown",
      "metadata": {
        "id": "kx2hpr3rL8eU"
      },
      "source": [
        "## **Severity Positive Instances**"
      ]
    },
    {
      "cell_type": "code",
      "execution_count": 11,
      "metadata": {
        "id": "NvvNneGd1w1t"
      },
      "outputs": [],
      "source": [
        "r = 42\n",
        "from sklearn.model_selection import train_test_split\n",
        "\n",
        "# Java Test and Train Dataset\n",
        "x_train_java_multiclass, x_test_java_multiclass, y_train_java_multiclass, y_test_java_multiclass = train_test_split(java_multiclass_predictors, java_multiclass_targets, test_size = 0.3, random_state = r)\n",
        "\n",
        "# CSharp Test and Train Dataset\n",
        "x_train_csharp_multiclass, x_test_csharp_multiclass, y_train_csharp_multiclass, y_test_csharp_multiclass = train_test_split(csharp_multiclass_predictors, csharp_multiclass_targets, test_size = 0.3, random_state = r)\n",
        "\n",
        "# Combine Multiclass Training Dataset\n",
        "x_train_multiclass_combined = np.concatenate([x_train_java_multiclass, x_train_csharp_multiclass], axis=0)\n",
        "y_train_multiclass_combined = np.concatenate([y_train_java_multiclass, y_train_csharp_multiclass], axis=0)"
      ]
    },
    {
      "cell_type": "markdown",
      "metadata": {
        "id": "kiJPoMPNiqXt"
      },
      "source": [
        "# **Exclude instances of no-smell from the training and test sets**\n"
      ]
    },
    {
      "cell_type": "code",
      "execution_count": 12,
      "metadata": {
        "colab": {
          "base_uri": "https://localhost:8080/"
        },
        "id": "-ffEXwaVp1uU",
        "outputId": "63024754-f18b-4020-fb79-2443a2711a51"
      },
      "outputs": [
        {
          "name": "stdout",
          "output_type": "stream",
          "text": [
            "The deletion is over in the y_train set!\n",
            "The deletion is over in the x_train set!\n",
            "Prepare training and test set for applying XGBoost\n"
          ]
        }
      ],
      "source": [
        "# Find unique classes\n",
        "unique_classes = np.unique(y_test_java_multiclass)\n",
        "\n",
        "# Count the number of classes\n",
        "number_classes = len(unique_classes)\n",
        "\n",
        "if (number_classes > 3):\n",
        "\n",
        "  x_train_multiclass, y_train_multiclass = x_train_multiclass_combined, y_train_multiclass_combined\n",
        "\n",
        "  finish = False\n",
        "  while (finish == False):\n",
        "    try:\n",
        "      max = x_train_multiclass.shape[0]\n",
        "      # Exclude instances of no-smell from the training set (targets)\n",
        "      for i in range(0, max):\n",
        "        if (y_train_multiclass[i] == 0):\n",
        "          y_train_multiclass = np.delete(y_train_multiclass, i, axis = 0)\n",
        "          x_train_multiclass = np.delete(x_train_multiclass, i, axis = 0)\n",
        "          i = 0\n",
        "          max = max - 1\n",
        "      finish = True\n",
        "      print(\"The deletion is over in the y_train set!\")\n",
        "    except:\n",
        "      finish == False\n",
        "\n",
        "  x_test_multiclass, y_test_multiclass = x_test_java_multiclass, y_test_java_multiclass\n",
        "  finish = False\n",
        "  while (finish == False):\n",
        "    try:\n",
        "      max = x_test_multiclass.shape[0]\n",
        "      # Exclude instances of no-smell from the test set (predictors)\n",
        "      for i in range(0, max):\n",
        "        if (y_test_multiclass[i] == 0):\n",
        "          y_test_multiclass = np.delete(y_test_multiclass, i, axis = 0)\n",
        "          x_test_multiclass = np.delete(x_test_multiclass, i, axis = 0)\n",
        "          i = 0\n",
        "          max = max - 1\n",
        "      finish = True\n",
        "      print(\"The deletion is over in the x_train set!\")\n",
        "    except:\n",
        "      finish = False\n",
        "\n",
        "  # Original mapping -> Remapping\n",
        "  mapping = {1.0: 0.0, 2.0: 1.0, 3.0: 2.0, 4.0: 3.0, 5.0: 4.0, 6.0: 5.0, 7.0: 6.0, 8.0: 7.0, 9.0: 8.0, 10.0: 9.0, 11.0: 10.0, 12.0: 11.0}\n",
        "\n",
        "  y_train_multiclass = np.array([mapping[label] for label in y_train_multiclass])\n",
        "  y_test_multiclass = np.array([mapping[label] for label in y_test_multiclass])\n",
        "  print(\"Prepare training and test set for applying XGBoost\")"
      ]
    },
    {
      "cell_type": "markdown",
      "metadata": {
        "id": "jjDwEUQ3lMhn"
      },
      "source": [
        "# **SEVERITY ASSESSMENT**\n"
      ]
    },
    {
      "cell_type": "code",
      "execution_count": 14,
      "metadata": {
        "id": "O4KrhTdXVgBd"
      },
      "outputs": [],
      "source": [
        "from imblearn.over_sampling import BorderlineSMOTE\n",
        "\n",
        "# OverSampling\n",
        "sm = BorderlineSMOTE(random_state=42)\n",
        "x_train_multiclass_res, y_train_multiclass_res = sm.fit_resample(x_train_multiclass, y_train_multiclass)"
      ]
    },
    {
      "cell_type": "code",
      "execution_count": 15,
      "metadata": {
        "colab": {
          "base_uri": "https://localhost:8080/",
          "height": 920
        },
        "id": "09Z9xrTlM5LD",
        "outputId": "7b6df48a-a552-43c0-9bb2-8ab4ac9cd55a"
      },
      "outputs": [
        {
          "name": "stdout",
          "output_type": "stream",
          "text": [
            "              precision    recall  f1-score   support\n",
            "\n",
            "         3.0       0.67      0.50      0.57         4\n",
            "         4.0       0.92      0.92      0.92        25\n",
            "         5.0       0.93      1.00      0.96        13\n",
            "\n",
            "    accuracy                           0.90        42\n",
            "   macro avg       0.84      0.81      0.82        42\n",
            "weighted avg       0.90      0.90      0.90        42\n",
            "\n"
          ]
        },
        {
          "data": {
            "image/png": "[encoded data removed]",
            "text/plain": [
              "<Figure size 900x900 with 2 Axes>"
            ]
          },
          "metadata": {},
          "output_type": "display_data"
        }
      ],
      "source": [
        "from xgboost import XGBClassifier\n",
        "from sklearn.metrics import accuracy_score, confusion_matrix, classification_report\n",
        "\n",
        "# Original mapping -> Remapping\n",
        "mapping = {0.0: 0.0, 1.0: 1.0, 3.0: 2.0, 4.0: 3.0, 5.0: 4.0, 6.0: 5.0, 7.0: 6.0, 9.0: 7.0, 10.0: 8.0, 11.0: 9.0}\n",
        "\n",
        "y_train_multiclass_remapped = np.array([mapping[label] for label in y_train_multiclass_res])\n",
        "y_test_multiclass_remapped = np.array([mapping[label] for label in y_test_multiclass])\n",
        "\n",
        "# Define the classifier model\n",
        "classifier = XGBClassifier(num_class=12, random_state=42, tree_method='hist', objective='multi:softprob', n_estimators=998, max_depth=6,\n",
        "                           learning_rate=0.31413793103448273, grow_policy='lossguide', booster='dart')\n",
        "\n",
        "classifier.fit(x_train_multiclass_res, y_train_multiclass_remapped)\n",
        "\n",
        "predictions_classifier = classifier.predict(x_test_multiclass)\n",
        "\n",
        "# Remapping -> Original mapping\n",
        "re_mapping = {0.0: 0.0, 1.0: 1.0, 2.0: 3.0, 3.0: 4.0, 4.0: 5.0, 5.0: 6.0, 6.0: 7.0, 7.0: 9.0, 8.0: 10.0, 9.0: 11.0}\n",
        "predictions_classifier_remapped = np.array([re_mapping[label] for label in predictions_classifier])\n",
        "\n",
        "cm = confusion_matrix(y_test_multiclass, predictions_classifier_remapped)\n",
        "\n",
        "print(classification_report(y_test_multiclass, predictions_classifier_remapped))\n",
        "\n",
        "score = classifier.score(x_test_multiclass, y_test_multiclass_remapped)\n",
        "\n",
        "import matplotlib.pyplot as plt\n",
        "import seaborn as sns\n",
        "from sklearn import metrics\n",
        "\n",
        "plt.figure(figsize=(9,9))\n",
        "sns.heatmap(cm, annot=True, fmt=\".0f\", linewidths=.5, square = True, cmap = 'Blues_r')\n",
        "plt.ylabel('Actual label')\n",
        "plt.xlabel('Predicted label')\n",
        "all_sample_title = 'Accuracy Score: {0}'.format(score)\n",
        "plt.title(all_sample_title, size = 17)\n",
        "#plt.savefig('toy_Digits_ConfusionSeabornCodementor.png')\n",
        "plt.show()"
      ]
    }
  ],
  "metadata": {
    "colab": {
      "machine_shape": "hm",
      "provenance": []
    },
    "kernelspec": {
      "display_name": "Python 3",
      "name": "python3"
    },
    "language_info": {
      "codemirror_mode": {
        "name": "ipython",
        "version": 3
      },
      "file_extension": ".py",
      "mimetype": "text/x-python",
      "name": "python",
      "nbconvert_exporter": "python",
      "pygments_lexer": "ipython3",
      "version": "3.9.16"
    }
  },
  "nbformat": 4,
  "nbformat_minor": 0
}
