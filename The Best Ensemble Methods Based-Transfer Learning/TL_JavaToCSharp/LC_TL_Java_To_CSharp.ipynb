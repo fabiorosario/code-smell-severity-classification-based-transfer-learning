{
  "cells": [
    {
      "cell_type": "code",
      "execution_count": 1,
      "metadata": {
        "colab": {
          "base_uri": "https://localhost:8080/"
        },
        "id": "NlleJaXqJDSP",
        "outputId": "5062a33c-b5b6-4ecf-8cf8-f83a94ebcc10"
      },
      "outputs": [
        {
          "output_type": "stream",
          "name": "stdout",
          "text": [
            "Mounted at /content/drive\n"
          ]
        }
      ],
      "source": [
        "from google.colab import drive\n",
        "drive.mount('/content/drive')"
      ]
    },
    {
      "cell_type": "code",
      "execution_count": 2,
      "metadata": {
        "id": "2WObihxsl5TR"
      },
      "outputs": [],
      "source": [
        "import numpy as np\n",
        "import pandas as pd"
      ]
    },
    {
      "cell_type": "code",
      "execution_count": 3,
      "metadata": {
        "id": "v71RTEGbl85I"
      },
      "outputs": [],
      "source": [
        "java_dataset = pd.read_csv('/content/drive/MyDrive/machine learning/Datasets/merged dataset_FE_LM_GC_DC_class balancer.csv', sep=',', encoding='iso-8859-1')"
      ]
    },
    {
      "cell_type": "code",
      "source": [
        "csharp_dataset = pd.read_csv('/content/drive/MyDrive/machine learning/Datasets/GeneratedDataset_CSharp.csv', sep=';', encoding='iso-8859-1')\n",
        "csharp_dataset = csharp_dataset[csharp_dataset.DataSet == \"large_class\"]"
      ],
      "metadata": {
        "id": "IBr8T4rXDGuS"
      },
      "execution_count": 4,
      "outputs": []
    },
    {
      "cell_type": "code",
      "execution_count": 5,
      "metadata": {
        "id": "yCLhDxAVIt_w"
      },
      "outputs": [],
      "source": [
        "import warnings\n",
        "warnings.filterwarnings(\"ignore\")"
      ]
    },
    {
      "cell_type": "markdown",
      "metadata": {
        "id": "hxXcBIr1nHlN"
      },
      "source": [
        "## **PREDICTOR AND TARGET ATTRIBUTES**"
      ]
    },
    {
      "cell_type": "code",
      "execution_count": 6,
      "metadata": {
        "id": "TtrPAUvnnNC2"
      },
      "outputs": [],
      "source": [
        "# Code Smell Detection\n",
        "java_binary_features = [10,14,15,19,27,29,30,36,37,38,40,41,53,56,62,63,64]\n",
        "java_binary_predictors = java_dataset.iloc[:, java_binary_features].values\n",
        "java_binary_targets = java_dataset.iloc[:, 5].values\n",
        "\n",
        "csharp_binary_features = [8,11,12,14,19,20,25,26,27,28,29,33,35,38,39,40,42]\n",
        "csharp_binary_predictors = csharp_dataset.iloc[:, csharp_binary_features].values\n",
        "csharp_binary_targets = csharp_dataset.iloc[:, 5].values\n",
        "\n",
        "\n",
        "# Severity Assessment\n",
        "java_multiclass_features = [10,14,15,19,25,27,30,31,33,34,36,37,38,39,40,41,43,45,46,53,56,60,62,63,64]\n",
        "java_multiclass_predictors = java_dataset.iloc[:, java_multiclass_features].values\n",
        "java_multiclass_targets = java_dataset.iloc[:, 7].values\n",
        "\n",
        "csharp_multiclass_features = [8,11,12,14,18,19,20,21,22,23,25,26,27,28,29,31,32,33,35,36,38,39,40,47,49]\n",
        "csharp_multiclass_predictors = csharp_dataset.iloc[:, csharp_multiclass_features].values\n",
        "csharp_multiclass_targets = csharp_dataset.iloc[:, 7].values"
      ]
    },
    {
      "cell_type": "markdown",
      "metadata": {
        "id": "7yPPqgrqmYWd"
      },
      "source": [
        "# **CODE SMELL DETECTION**"
      ]
    },
    {
      "cell_type": "code",
      "execution_count": null,
      "metadata": {
        "id": "CdXwsx4kIt_y",
        "outputId": "d29d3429-af32-4bf1-f0e0-050345c642b4",
        "colab": {
          "base_uri": "https://localhost:8080/"
        }
      },
      "outputs": [
        {
          "output_type": "stream",
          "name": "stdout",
          "text": [
            "Requirement already satisfied: seaborn in /usr/local/lib/python3.10/dist-packages (0.13.1)\n",
            "Requirement already satisfied: numpy!=1.24.0,>=1.20 in /usr/local/lib/python3.10/dist-packages (from seaborn) (1.26.4)\n",
            "Requirement already satisfied: pandas>=1.2 in /usr/local/lib/python3.10/dist-packages (from seaborn) (2.2.2)\n",
            "Requirement already satisfied: matplotlib!=3.6.1,>=3.4 in /usr/local/lib/python3.10/dist-packages (from seaborn) (3.7.1)\n",
            "Requirement already satisfied: contourpy>=1.0.1 in /usr/local/lib/python3.10/dist-packages (from matplotlib!=3.6.1,>=3.4->seaborn) (1.3.0)\n",
            "Requirement already satisfied: cycler>=0.10 in /usr/local/lib/python3.10/dist-packages (from matplotlib!=3.6.1,>=3.4->seaborn) (0.12.1)\n",
            "Requirement already satisfied: fonttools>=4.22.0 in /usr/local/lib/python3.10/dist-packages (from matplotlib!=3.6.1,>=3.4->seaborn) (4.54.1)\n",
            "Requirement already satisfied: kiwisolver>=1.0.1 in /usr/local/lib/python3.10/dist-packages (from matplotlib!=3.6.1,>=3.4->seaborn) (1.4.7)\n",
            "Requirement already satisfied: packaging>=20.0 in /usr/local/lib/python3.10/dist-packages (from matplotlib!=3.6.1,>=3.4->seaborn) (24.1)\n",
            "Requirement already satisfied: pillow>=6.2.0 in /usr/local/lib/python3.10/dist-packages (from matplotlib!=3.6.1,>=3.4->seaborn) (10.4.0)\n",
            "Requirement already satisfied: pyparsing>=2.3.1 in /usr/local/lib/python3.10/dist-packages (from matplotlib!=3.6.1,>=3.4->seaborn) (3.1.4)\n",
            "Requirement already satisfied: python-dateutil>=2.7 in /usr/local/lib/python3.10/dist-packages (from matplotlib!=3.6.1,>=3.4->seaborn) (2.8.2)\n",
            "Requirement already satisfied: pytz>=2020.1 in /usr/local/lib/python3.10/dist-packages (from pandas>=1.2->seaborn) (2024.2)\n",
            "Requirement already satisfied: tzdata>=2022.7 in /usr/local/lib/python3.10/dist-packages (from pandas>=1.2->seaborn) (2024.2)\n",
            "Requirement already satisfied: six>=1.5 in /usr/local/lib/python3.10/dist-packages (from python-dateutil>=2.7->matplotlib!=3.6.1,>=3.4->seaborn) (1.16.0)\n"
          ]
        }
      ],
      "source": [
        "pip install seaborn"
      ]
    },
    {
      "cell_type": "code",
      "source": [
        "pip install catboost"
      ],
      "metadata": {
        "colab": {
          "base_uri": "https://localhost:8080/"
        },
        "id": "qYzJWiGnSP4f",
        "outputId": "fe9cc251-fd91-4e88-9192-319aebdbabeb"
      },
      "execution_count": 7,
      "outputs": [
        {
          "output_type": "stream",
          "name": "stdout",
          "text": [
            "Collecting catboost\n",
            "  Downloading catboost-1.2.7-cp310-cp310-manylinux2014_x86_64.whl.metadata (1.2 kB)\n",
            "Requirement already satisfied: graphviz in /usr/local/lib/python3.10/dist-packages (from catboost) (0.20.3)\n",
            "Requirement already satisfied: matplotlib in /usr/local/lib/python3.10/dist-packages (from catboost) (3.7.1)\n",
            "Requirement already satisfied: numpy<2.0,>=1.16.0 in /usr/local/lib/python3.10/dist-packages (from catboost) (1.26.4)\n",
            "Requirement already satisfied: pandas>=0.24 in /usr/local/lib/python3.10/dist-packages (from catboost) (2.2.2)\n",
            "Requirement already satisfied: scipy in /usr/local/lib/python3.10/dist-packages (from catboost) (1.13.1)\n",
            "Requirement already satisfied: plotly in /usr/local/lib/python3.10/dist-packages (from catboost) (5.24.1)\n",
            "Requirement already satisfied: six in /usr/local/lib/python3.10/dist-packages (from catboost) (1.16.0)\n",
            "Requirement already satisfied: python-dateutil>=2.8.2 in /usr/local/lib/python3.10/dist-packages (from pandas>=0.24->catboost) (2.8.2)\n",
            "Requirement already satisfied: pytz>=2020.1 in /usr/local/lib/python3.10/dist-packages (from pandas>=0.24->catboost) (2024.2)\n",
            "Requirement already satisfied: tzdata>=2022.7 in /usr/local/lib/python3.10/dist-packages (from pandas>=0.24->catboost) (2024.2)\n",
            "Requirement already satisfied: contourpy>=1.0.1 in /usr/local/lib/python3.10/dist-packages (from matplotlib->catboost) (1.3.0)\n",
            "Requirement already satisfied: cycler>=0.10 in /usr/local/lib/python3.10/dist-packages (from matplotlib->catboost) (0.12.1)\n",
            "Requirement already satisfied: fonttools>=4.22.0 in /usr/local/lib/python3.10/dist-packages (from matplotlib->catboost) (4.54.1)\n",
            "Requirement already satisfied: kiwisolver>=1.0.1 in /usr/local/lib/python3.10/dist-packages (from matplotlib->catboost) (1.4.7)\n",
            "Requirement already satisfied: packaging>=20.0 in /usr/local/lib/python3.10/dist-packages (from matplotlib->catboost) (24.1)\n",
            "Requirement already satisfied: pillow>=6.2.0 in /usr/local/lib/python3.10/dist-packages (from matplotlib->catboost) (10.4.0)\n",
            "Requirement already satisfied: pyparsing>=2.3.1 in /usr/local/lib/python3.10/dist-packages (from matplotlib->catboost) (3.1.4)\n",
            "Requirement already satisfied: tenacity>=6.2.0 in /usr/local/lib/python3.10/dist-packages (from plotly->catboost) (9.0.0)\n",
            "Downloading catboost-1.2.7-cp310-cp310-manylinux2014_x86_64.whl (98.7 MB)\n",
            "\u001b[2K   \u001b[90m━━━━━━━━━━━━━━━━━━━━━━━━━━━━━━━━━━━━━━━━\u001b[0m \u001b[32m98.7/98.7 MB\u001b[0m \u001b[31m26.6 MB/s\u001b[0m eta \u001b[36m0:00:00\u001b[0m\n",
            "\u001b[?25hInstalling collected packages: catboost\n",
            "Successfully installed catboost-1.2.7\n"
          ]
        }
      ]
    },
    {
      "cell_type": "markdown",
      "source": [
        "## **SMOTE**"
      ],
      "metadata": {
        "id": "oxQh6A_EmnMA"
      }
    },
    {
      "cell_type": "code",
      "source": [
        "r = 42\n",
        "from catboost import CatBoostClassifier\n",
        "from sklearn.metrics import accuracy_score, confusion_matrix, classification_report\n",
        "from sklearn.model_selection import train_test_split\n",
        "\n",
        "# Java Test and Train Dataset\n",
        "x_train_java_binary, x_test_java_binary, y_train_java_binary, y_test_java_binary = train_test_split(java_binary_predictors, java_binary_targets, test_size = 0.3, random_state = r)\n",
        "\n",
        "# Create a StandardScaler instance for binary and multiclass\n",
        "from sklearn.preprocessing import StandardScaler\n",
        "scaler_binary = StandardScaler()\n",
        "\n",
        "# Fit the scaler to the training data and transform the training data\n",
        "x_train_java_binary = scaler_binary.fit_transform(x_train_java_binary)\n",
        "\n",
        "# CSharp Test and Train Dataset\n",
        "x_train_csharp_binary, x_test_csharp_binary, y_train_csharp_binary, y_test_csharp_binary = train_test_split(csharp_binary_predictors, csharp_binary_targets, test_size = 0.3, random_state = r)\n",
        "\n",
        "# Fit the scaler to the training data and transform the training data\n",
        "x_train_csharp_binary = scaler_binary.fit_transform(x_train_csharp_binary)\n",
        "\n",
        "# Transform the test data using the adjusted scaler\n",
        "x_test_csharp_binary = scaler_binary.transform(x_test_csharp_binary)\n",
        "\n",
        "# OverSampling\n",
        "from imblearn.over_sampling import SMOTE\n",
        "sm = SMOTE(random_state=42)\n",
        "x_train_csharp_binary, y_train_csharp_binary = sm.fit_resample(x_train_csharp_binary, y_train_csharp_binary)\n",
        "\n",
        "# Combine Binary Training Dataset\n",
        "x_train_binary_combined = np.concatenate([x_train_java_binary, x_train_csharp_binary], axis=0)\n",
        "y_train_binary_combined = np.concatenate([y_train_java_binary, y_train_csharp_binary], axis=0)\n",
        "\n",
        "# Define the detector model\n",
        "detector = CatBoostClassifier(task_type='CPU', random_state = 42, verbose=False,\n",
        "                              auto_class_weights='SqrtBalanced', bootstrap_type='Bayesian', border_count=32, depth=16, feature_border_type='MaxLogSum',\n",
        "                              grow_policy='Lossguide', iterations=1000, l2_leaf_reg=10, leaf_estimation_method='Newton', learning_rate=0.01)\n",
        "\n",
        "detector.fit(x_train_binary_combined, y_train_binary_combined)\n",
        "\n",
        "# Define Binary Test Dataset\n",
        "x_test_binary, y_test_binary = x_test_csharp_binary, y_test_csharp_binary\n",
        "\n",
        "predictions_detector = detector.predict(x_test_binary)\n",
        "\n",
        "cm = confusion_matrix(y_test_binary, predictions_detector)\n",
        "\n",
        "print(classification_report(y_test_binary, predictions_detector))\n",
        "\n",
        "score = detector.score(x_test_binary, y_test_binary)\n",
        "\n",
        "import matplotlib.pyplot as plt\n",
        "import seaborn as sns\n",
        "from sklearn import metrics\n",
        "\n",
        "plt.figure(figsize=(9,9))\n",
        "sns.heatmap(cm, annot=True, fmt=\".0f\", linewidths=.5, square = True, cmap = 'Blues_r')\n",
        "plt.ylabel('Actual label')\n",
        "plt.xlabel('Predicted label')\n",
        "all_sample_title = 'Accuracy Score: {0}'.format(score)\n",
        "plt.title(all_sample_title, size = 17)\n",
        "#plt.savefig('toy_Digits_ConfusionSeabornCodementor.png')\n",
        "plt.show()"
      ],
      "metadata": {
        "colab": {
          "base_uri": "https://localhost:8080/",
          "height": 893
        },
        "id": "4hE2cmWgmndG",
        "outputId": "7f86e157-2cc7-4b92-b259-8fffe8ff1205"
      },
      "execution_count": 8,
      "outputs": [
        {
          "output_type": "stream",
          "name": "stdout",
          "text": [
            "              precision    recall  f1-score   support\n",
            "\n",
            "           0       0.97      0.97      0.97       175\n",
            "           1       0.90      0.90      0.90        61\n",
            "\n",
            "    accuracy                           0.95       236\n",
            "   macro avg       0.93      0.93      0.93       236\n",
            "weighted avg       0.95      0.95      0.95       236\n",
            "\n"
          ]
        },
        {
          "output_type": "display_data",
          "data": {
            "text/plain": [
              "<Figure size 900x900 with 2 Axes>"
            ],
            "image/png": "[encoded data removed]"
          },
          "metadata": {}
        }
      ]
    },
    {
      "cell_type": "markdown",
      "source": [
        "## **Severity Positive Instances**"
      ],
      "metadata": {
        "id": "Jki7aAZImn4m"
      }
    },
    {
      "cell_type": "code",
      "source": [
        "r = 42\n",
        "from sklearn.model_selection import train_test_split\n",
        "\n",
        "# Java Test and Train Dataset\n",
        "x_train_java_multiclass, x_test_java_multiclass, y_train_java_multiclass, y_test_java_multiclass = train_test_split(java_multiclass_predictors, java_multiclass_targets, test_size = 0.3, random_state = r)\n",
        "\n",
        "# Create a StandardScaler instance for binary and multiclass\n",
        "from sklearn.preprocessing import StandardScaler\n",
        "scaler_multiclass = StandardScaler()\n",
        "\n",
        "# Fit the scaler to the training data and transform the training data\n",
        "x_train_java_multiclass = scaler_multiclass.fit_transform(x_train_java_multiclass)\n",
        "\n",
        "# CSharp Test and Train Dataset\n",
        "x_train_csharp_multiclass, x_test_csharp_multiclass, y_train_csharp_multiclass, y_test_csharp_multiclass = train_test_split(csharp_multiclass_predictors, csharp_multiclass_targets, test_size = 0.3, random_state = r)\n",
        "\n",
        "# Fit the scaler to the training data and transform the training data\n",
        "x_train_csharp_multiclass = scaler_multiclass.fit_transform(x_train_csharp_multiclass)\n",
        "\n",
        "# Transform the test data using the adjusted scaler\n",
        "x_test_csharp_multiclass = scaler_multiclass.transform(x_test_csharp_multiclass)\n",
        "\n",
        "# Combine Multiclass Training Dataset\n",
        "x_train_multiclass_combined = np.concatenate([x_train_java_multiclass, x_train_csharp_multiclass], axis=0)\n",
        "y_train_multiclass_combined = np.concatenate([y_train_java_multiclass, y_train_csharp_multiclass], axis=0)"
      ],
      "metadata": {
        "id": "SHv1GSWUmoNJ"
      },
      "execution_count": 9,
      "outputs": []
    },
    {
      "cell_type": "markdown",
      "metadata": {
        "id": "kiJPoMPNiqXt"
      },
      "source": [
        "# **Exclude instances of no-smell from the training and test sets**\n"
      ]
    },
    {
      "cell_type": "code",
      "execution_count": 10,
      "metadata": {
        "colab": {
          "base_uri": "https://localhost:8080/"
        },
        "id": "-ffEXwaVp1uU",
        "outputId": "feb52953-6aa7-4248-8a7f-7946a7f4c10a"
      },
      "outputs": [
        {
          "output_type": "stream",
          "name": "stdout",
          "text": [
            "The deletion is over in the y_train set!\n",
            "The deletion is over in the x_train set!\n",
            "Prepare training and test set for applying XGBoost\n"
          ]
        }
      ],
      "source": [
        "x_test_multiclass, y_test_multiclass = x_test_csharp_multiclass, y_test_csharp_multiclass\n",
        "\n",
        "# Find unique classes\n",
        "unique_classes = np.unique(y_test_multiclass)\n",
        "\n",
        "# Count the number of classes\n",
        "number_classes = len(unique_classes)\n",
        "\n",
        "if (number_classes > 3):\n",
        "\n",
        "  x_train_multiclass, y_train_multiclass = x_train_multiclass_combined, y_train_multiclass_combined\n",
        "\n",
        "  finish = False\n",
        "  while (finish == False):\n",
        "    try:\n",
        "      max = x_train_multiclass.shape[0]\n",
        "      # Exclude instances of no-smell from the training set (targets)\n",
        "      for i in range(0, max):\n",
        "        if (y_train_multiclass[i] == 0):\n",
        "          y_train_multiclass = np.delete(y_train_multiclass, i, axis = 0)\n",
        "          x_train_multiclass = np.delete(x_train_multiclass, i, axis = 0)\n",
        "          i = 0\n",
        "          max = max - 1\n",
        "      finish = True\n",
        "      print(\"The deletion is over in the y_train set!\")\n",
        "    except:\n",
        "      finish == False\n",
        "\n",
        "  finish = False\n",
        "  while (finish == False):\n",
        "    try:\n",
        "      max = x_test_multiclass.shape[0]\n",
        "      # Exclude instances of no-smell from the test set (predictors)\n",
        "      for i in range(0, max):\n",
        "        if (y_test_multiclass[i] == 0):\n",
        "          y_test_multiclass = np.delete(y_test_multiclass, i, axis = 0)\n",
        "          x_test_multiclass = np.delete(x_test_multiclass, i, axis = 0)\n",
        "          i = 0\n",
        "          max = max - 1\n",
        "      finish = True\n",
        "      print(\"The deletion is over in the x_train set!\")\n",
        "    except:\n",
        "      finish = False\n",
        "\n",
        "  # Original mapping -> Remapping\n",
        "  mapping = {1.0: 0.0, 2.0: 1.0, 3.0: 2.0, 4.0: 3.0, 5.0: 4.0, 6.0: 5.0, 7.0: 6.0, 8.0: 7.0, 9.0: 8.0, 10.0: 9.0, 11.0: 10.0, 12.0: 11.0}\n",
        "\n",
        "  y_train_multiclass = np.array([mapping[label] for label in y_train_multiclass])\n",
        "  y_test_multiclass = np.array([mapping[label] for label in y_test_multiclass])\n",
        "  print(\"Prepare training and test set for applying XGBoost\")"
      ]
    },
    {
      "cell_type": "markdown",
      "metadata": {
        "id": "jjDwEUQ3lMhn"
      },
      "source": [
        "# **SEVERITY ASSESSMENT**\n"
      ]
    },
    {
      "cell_type": "code",
      "source": [
        "from imblearn.over_sampling import SMOTE\n",
        "\n",
        "# OverSampling\n",
        "sm = SMOTE(random_state=42)\n",
        "x_train_multiclass_res, y_train_multiclass_res = sm.fit_resample(x_train_multiclass, y_train_multiclass)"
      ],
      "metadata": {
        "id": "elApStizcUgZ"
      },
      "execution_count": 11,
      "outputs": []
    },
    {
      "cell_type": "code",
      "source": [
        "from xgboost import XGBClassifier\n",
        "from sklearn.metrics import accuracy_score, confusion_matrix, classification_report\n",
        "\n",
        "# Define the classifier model\n",
        "classifier = XGBClassifier(num_class=12, random_state=42, tree_method='hist', objective='multi:softmax', n_estimators=720, max_depth=18,\n",
        "                           learning_rate=0.36482758620689654, grow_policy='depthwise', booster='gbtree')\n",
        "\n",
        "classifier.fit(x_train_multiclass_res, y_train_multiclass_res)\n",
        "\n",
        "predictions_classifier = classifier.predict(x_test_multiclass)\n",
        "\n",
        "cm = confusion_matrix(y_test_multiclass, predictions_classifier)\n",
        "\n",
        "print(classification_report(y_test_multiclass, predictions_classifier))\n",
        "\n",
        "score = classifier.score(x_test_multiclass, y_test_multiclass)\n",
        "\n",
        "import matplotlib.pyplot as plt\n",
        "import seaborn as sns\n",
        "from sklearn import metrics\n",
        "\n",
        "plt.figure(figsize=(9,9))\n",
        "sns.heatmap(cm, annot=True, fmt=\".0f\", linewidths=.5, square = True, cmap = 'Blues_r')\n",
        "plt.ylabel('Actual label')\n",
        "plt.xlabel('Predicted label')\n",
        "all_sample_title = 'Accuracy Score: {0}'.format(score)\n",
        "plt.title(all_sample_title, size = 17)\n",
        "#plt.savefig('toy_Digits_ConfusionSeabornCodementor.png')\n",
        "plt.show()"
      ],
      "metadata": {
        "colab": {
          "base_uri": "https://localhost:8080/",
          "height": 938
        },
        "id": "2-NhZLA-cUUa",
        "outputId": "0f46a72b-827e-4f6c-cdaf-36f135fc6871"
      },
      "execution_count": 12,
      "outputs": [
        {
          "output_type": "stream",
          "name": "stdout",
          "text": [
            "              precision    recall  f1-score   support\n",
            "\n",
            "         5.0       0.00      0.00      0.00         0\n",
            "         9.0       0.87      0.97      0.92        34\n",
            "        10.0       0.82      0.70      0.76        20\n",
            "        11.0       1.00      0.71      0.83         7\n",
            "\n",
            "    accuracy                           0.85        61\n",
            "   macro avg       0.67      0.60      0.63        61\n",
            "weighted avg       0.87      0.85      0.85        61\n",
            "\n"
          ]
        },
        {
          "output_type": "display_data",
          "data": {
            "text/plain": [
              "<Figure size 900x900 with 2 Axes>"
            ],
            "image/png": "[encoded data removed]"
          },
          "metadata": {}
        }
      ]
    }
  ],
  "metadata": {
    "colab": {
      "provenance": [],
      "machine_shape": "hm"
    },
    "kernelspec": {
      "display_name": "Python 3",
      "name": "python3"
    },
    "language_info": {
      "codemirror_mode": {
        "name": "ipython",
        "version": 3
      },
      "file_extension": ".py",
      "mimetype": "text/x-python",
      "name": "python",
      "nbconvert_exporter": "python",
      "pygments_lexer": "ipython3",
      "version": "3.9.16"
    }
  },
  "nbformat": 4,
  "nbformat_minor": 0
}